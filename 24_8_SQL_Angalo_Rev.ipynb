{
 "cells": [
  {
   "cell_type": "markdown",
   "metadata": {},
   "source": [
    "Hola **Angel**!\n",
    "\n",
    "Soy **Patricio Requena** 👋. Es un placer ser el revisor de tu proyecto el día de hoy!\n",
    "\n",
    "Revisaré tu proyecto detenidamente con el objetivo de ayudarte a mejorar y perfeccionar tus habilidades. Durante mi revisión, identificaré áreas donde puedas hacer mejoras en tu código, señalando específicamente qué y cómo podrías ajustar para optimizar el rendimiento y la claridad de tu proyecto. Además, es importante para mí destacar los aspectos que has manejado excepcionalmente bien. Reconocer tus fortalezas te ayudará a entender qué técnicas y métodos están funcionando a tu favor y cómo puedes aplicarlos en futuras tareas. \n",
    "\n",
    "_**Recuerda que al final de este notebook encontrarás un comentario general de mi parte**_, empecemos!\n",
    "\n",
    "Encontrarás mis comentarios dentro de cajas verdes, amarillas o rojas, ⚠️ **por favor, no muevas, modifiques o borres mis comentarios** ⚠️:\n",
    "\n",
    "\n",
    "<div class=\"alert alert-block alert-success\">\n",
    "<b>Comentario del revisor</b> <a class=“tocSkip”></a>\n",
    "Si todo está perfecto.\n",
    "</div>\n",
    "\n",
    "<div class=\"alert alert-block alert-warning\">\n",
    "<b>Comentario del revisor</b> <a class=“tocSkip”></a>\n",
    "Si tu código está bien pero se puede mejorar o hay algún detalle que le hace falta.\n",
    "</div>\n",
    "\n",
    "<div class=\"alert alert-block alert-danger\">\n",
    "<b>Comentario del revisor</b> <a class=“tocSkip”></a>\n",
    "Si de pronto hace falta algo o existe algún problema con tu código o conclusiones.\n",
    "</div>\n",
    "\n",
    "Puedes responderme de esta forma:\n",
    "<div class=\"alert alert-block alert-info\">\n",
    "<b>Respuesta del estudiante</b> <a class=“tocSkip”></a>\n",
    "</div>"
   ]
  },
  {
   "cell_type": "markdown",
   "metadata": {},
   "source": [
    "# SPRINT 8 Recopilacion y almacenamiento de datos SQL - Proyecto "
   ]
  },
  {
   "cell_type": "markdown",
   "metadata": {},
   "source": [
    "## Introduccion"
   ]
  },
  {
   "cell_type": "markdown",
   "metadata": {},
   "source": [
    "Estás trabajando como analista para Zuber, una nueva empresa de viajes compartidos que se está lanzando en Chicago.\n",
    "\n",
    "Tu tarea es encontrar patrones en la información disponible. \n",
    "\n",
    "Quieres comprender las preferencias de los pasajeros y el impacto de los factores externos en los viajes.\n",
    "\n",
    "Al trabajar con una base de datos, analizarás los datos de los competidores y probarás una hipótesis sobre el impacto del clima en la frecuencia de los viajes."
   ]
  },
  {
   "cell_type": "markdown",
   "metadata": {},
   "source": [
    "## Diccionario de datos en tablas SQL"
   ]
  },
  {
   "cell_type": "markdown",
   "metadata": {},
   "source": [
    "**tabla neighborhoods:** datos sobre los barrios de la ciudad\n",
    " - `name:` nombre del barrio\n",
    " - `neighborhood_id:` código del barrio\n",
    "\n",
    "**tabla cabs:** datos sobre los taxis\n",
    "- `cab_id:` código del vehículo\n",
    "- `vehicle_id:` ID técnico del vehículo\n",
    "- `company_name:` la empresa propietaria del vehículo\n",
    "\n",
    "**tabla trips:** datos sobre los viajes\n",
    "- `trip_id:` código del viaje\n",
    "- `cab_id:` código del vehículo que opera el viaje\n",
    "- `start_ts:` fecha y hora del inicio del viaje (tiempo redondeado a la hora)\n",
    "- `end_ts:` fecha y hora de finalización del viaje (tiempo redondeado a la hora)\n",
    "- `duration_seconds:` duración del viaje en segundos\n",
    "- `distance_miles:` distancia del viaje en millas\n",
    "- `pickup_location_id:` código del barrio de recogida\n",
    "- `dropoff_location_id:` código del barrio de finalización\n",
    "\n",
    "**tabla weather_records:** datos sobre el clima\n",
    "- `record_id:` código del registro meteorológico\n",
    "- `ts:` fecha y hora del registro (tiempo redondeado a la hora)\n",
    "- `temperature:` temperatura cuando se tomó el registro\n",
    "- `description:` breve descripción de las condiciones meteorológicas, por ejemplo, \"lluvia ligera\" o \"nubes dispersas\""
   ]
  },
  {
   "cell_type": "markdown",
   "metadata": {},
   "source": [
    "## Diccionario de datos en Analisis Python"
   ]
  },
  {
   "cell_type": "markdown",
   "metadata": {},
   "source": [
    "**project_sql_result_01.csv.** Contiene los siguientes datos:\n",
    "- `company_name:` nombre de la empresa de taxis\n",
    "- `trips_amount:` el número de viajes de cada compañía de taxis el 15 y 16 de noviembre de 2017.\n",
    "\n",
    "**project_sql_result_04.csv.** Contiene los siguientes datos:\n",
    "- `dropoff_location_name:` barrios de Chicago donde finalizaron los viajes\n",
    "- `average_trips:` el promedio de viajes que terminaron en cada barrio en noviembre de 2017.\n",
    "\n",
    "**project_sql_result_07.csv:** Contiene datos sobre viajes desde el Loop hasta el Aeropuerto Internacional O'Hare.\n",
    "- `start_ts:` fecha y hora de recogida\n",
    "- `weather_conditions:` condiciones climáticas en el momento en el que comenzó el viaje\n",
    "- `duration_seconds:` duración del viaje en segundos"
   ]
  },
  {
   "cell_type": "markdown",
   "metadata": {},
   "source": [
    "<div class=\"alert alert-block alert-success\">\n",
    "<b>Comentario del revisor (1ra Iteracion)</b> <a class=“tocSkip”></a>\n",
    "\n",
    "Te felicito por incluir esta sección introductoria a tu proyecto, esto hace más fácil el entender el mismo, te animo a mantener esta práctica para el resto de tus proyectos!\n",
    "</div>"
   ]
  },
  {
   "cell_type": "markdown",
   "metadata": {},
   "source": [
    "## Carga de librerias y conjunto de datos"
   ]
  },
  {
   "cell_type": "code",
   "execution_count": 1,
   "metadata": {},
   "outputs": [],
   "source": [
    "#Carga de liberias\n",
    "from matplotlib import pyplot as plt\n",
    "import pandas as pd\n",
    "import numpy as np\n",
    "from scipy import stats as st"
   ]
  },
  {
   "cell_type": "code",
   "execution_count": 2,
   "metadata": {},
   "outputs": [
    {
     "name": "stdout",
     "output_type": "stream",
     "text": [
      "                  company_name  trips_amount\n",
      "36      3591 - 63480 Chuks Cab            37\n",
      "11                  Globe Taxi          4383\n",
      "60     2733 - 74600 Benny Jona             7\n",
      "62  2241 - 44667 - Felman Corp             3\n",
      "23       KOAM Taxi Association          1259\n",
      "\n",
      "<class 'pandas.core.frame.DataFrame'>\n",
      "RangeIndex: 64 entries, 0 to 63\n",
      "Data columns (total 2 columns):\n",
      " #   Column        Non-Null Count  Dtype \n",
      "---  ------        --------------  ----- \n",
      " 0   company_name  64 non-null     object\n",
      " 1   trips_amount  64 non-null     int64 \n",
      "dtypes: int64(1), object(1)\n",
      "memory usage: 1.1+ KB\n"
     ]
    }
   ],
   "source": [
    "#Carga de base de datos 1\n",
    "df_company_trips = pd.read_csv('/datasets/project_sql_result_01.csv')\n",
    "print(df_company_trips.sample(5))\n",
    "print()\n",
    "df_company_trips.info()"
   ]
  },
  {
   "cell_type": "code",
   "execution_count": 3,
   "metadata": {},
   "outputs": [
    {
     "name": "stdout",
     "output_type": "stream",
     "text": [
      "   dropoff_location_name  average_trips\n",
      "77        Archer Heights       8.366667\n",
      "27              Avondale     208.233333\n",
      "57               Hermosa      27.566667\n",
      "15        Garfield Ridge     745.400000\n",
      "69              Roseland      14.366667\n",
      "\n",
      "<class 'pandas.core.frame.DataFrame'>\n",
      "RangeIndex: 94 entries, 0 to 93\n",
      "Data columns (total 2 columns):\n",
      " #   Column                 Non-Null Count  Dtype  \n",
      "---  ------                 --------------  -----  \n",
      " 0   dropoff_location_name  94 non-null     object \n",
      " 1   average_trips          94 non-null     float64\n",
      "dtypes: float64(1), object(1)\n",
      "memory usage: 1.6+ KB\n"
     ]
    }
   ],
   "source": [
    "#Carga de base de datos 2\n",
    "df_barrios_trips = pd.read_csv('/datasets/project_sql_result_04.csv')\n",
    "print(df_barrios_trips.sample(5))\n",
    "print()\n",
    "df_barrios_trips.info()"
   ]
  },
  {
   "cell_type": "markdown",
   "metadata": {},
   "source": [
    "**Comments**: Se cargan los datos de ambos datasets, en los cuales se visualiza en el primero un total de 64 filas sin valores nulos en ambas columnas, y en el segundo 94 filas sin valores nulos."
   ]
  },
  {
   "cell_type": "code",
   "execution_count": 4,
   "metadata": {},
   "outputs": [
    {
     "name": "stdout",
     "output_type": "stream",
     "text": [
      "                start_ts weather_conditions  duration_seconds\n",
      "50   2017-11-11 12:00:00               Good            1980.0\n",
      "163  2017-11-11 09:00:00               Good               0.0\n",
      "267  2017-11-04 02:00:00               Good            2956.0\n",
      "48   2017-11-04 09:00:00               Good            1560.0\n",
      "543  2017-11-18 06:00:00               Good            1500.0\n",
      "\n",
      "<class 'pandas.core.frame.DataFrame'>\n",
      "RangeIndex: 1068 entries, 0 to 1067\n",
      "Data columns (total 3 columns):\n",
      " #   Column              Non-Null Count  Dtype  \n",
      "---  ------              --------------  -----  \n",
      " 0   start_ts            1068 non-null   object \n",
      " 1   weather_conditions  1068 non-null   object \n",
      " 2   duration_seconds    1068 non-null   float64\n",
      "dtypes: float64(1), object(2)\n",
      "memory usage: 25.2+ KB\n"
     ]
    }
   ],
   "source": [
    "#Carga de base de datos 3\n",
    "df_trips_loop_aero = pd.read_csv('/datasets/project_sql_result_07.csv')\n",
    "print(df_trips_loop_aero.sample(5))\n",
    "print()\n",
    "df_trips_loop_aero.info()"
   ]
  },
  {
   "cell_type": "markdown",
   "metadata": {},
   "source": [
    "<div class=\"alert alert-block alert-success\">\n",
    "<b>Comentario del revisor (1ra Iteracion)</b> <a class=“tocSkip”></a>\n",
    "\n",
    "Carga de datos correcta! \n",
    "</div>"
   ]
  },
  {
   "cell_type": "markdown",
   "metadata": {},
   "source": [
    "## Procesamiento de los datos"
   ]
  },
  {
   "cell_type": "markdown",
   "metadata": {},
   "source": [
    "### Columna \"company_name\" (df_company_trips) "
   ]
  },
  {
   "cell_type": "code",
   "execution_count": 5,
   "metadata": {},
   "outputs": [
    {
     "data": {
      "text/plain": [
       "0                           Flash Cab\n",
       "1           Taxi Affiliation Services\n",
       "2                   Medallion Leasing\n",
       "3                          Yellow Cab\n",
       "4     Taxi Affiliation Service Yellow\n",
       "                   ...               \n",
       "59       4053 - 40193 Adwar H. Nikola\n",
       "60            2733 - 74600 Benny Jona\n",
       "61      5874 - 73628 Sergey Cab Corp.\n",
       "62         2241 - 44667 - Felman Corp\n",
       "63        3556 - 36214 RC Andrews Cab\n",
       "Name: company_name, Length: 64, dtype: object"
      ]
     },
     "execution_count": 5,
     "metadata": {},
     "output_type": "execute_result"
    }
   ],
   "source": [
    "#Valores en columna company_name\n",
    "df_company_trips['company_name']"
   ]
  },
  {
   "cell_type": "code",
   "execution_count": 6,
   "metadata": {},
   "outputs": [
    {
     "data": {
      "text/plain": [
       "0                           flash cab\n",
       "1           taxi affiliation services\n",
       "2                   medallion leasing\n",
       "3                          yellow cab\n",
       "4     taxi affiliation service yellow\n",
       "                   ...               \n",
       "59       4053 - 40193 adwar h. nikola\n",
       "60            2733 - 74600 benny jona\n",
       "61      5874 - 73628 sergey cab corp.\n",
       "62         2241 - 44667 - felman corp\n",
       "63        3556 - 36214 rc andrews cab\n",
       "Name: company_name, Length: 64, dtype: object"
      ]
     },
     "execution_count": 6,
     "metadata": {},
     "output_type": "execute_result"
    }
   ],
   "source": [
    "#Cambiar nombres de company_name a minusculas\n",
    "df_company_trips['company_name'] = df_company_trips['company_name'].str.lower()\n",
    "df_company_trips['company_name'] = df_company_trips['company_name'].str.strip()\n",
    "df_company_trips['company_name']"
   ]
  },
  {
   "cell_type": "markdown",
   "metadata": {},
   "source": [
    "**Comments**: el tipo de dato para esta columna es el adecuado. Solo se hace el cambio de valores a minusculas."
   ]
  },
  {
   "cell_type": "markdown",
   "metadata": {},
   "source": [
    "### Columna \"trips_amount\" (df_company_trips) "
   ]
  },
  {
   "cell_type": "code",
   "execution_count": 7,
   "metadata": {},
   "outputs": [
    {
     "data": {
      "text/plain": [
       "0     19558\n",
       "1     11422\n",
       "2     10367\n",
       "3      9888\n",
       "4      9299\n",
       "      ...  \n",
       "59        7\n",
       "60        7\n",
       "61        5\n",
       "62        3\n",
       "63        2\n",
       "Name: trips_amount, Length: 64, dtype: int64"
      ]
     },
     "execution_count": 7,
     "metadata": {},
     "output_type": "execute_result"
    }
   ],
   "source": [
    "#Valores en columna trips_amount\n",
    "df_company_trips['trips_amount']"
   ]
  },
  {
   "cell_type": "code",
   "execution_count": 8,
   "metadata": {},
   "outputs": [
    {
     "data": {
      "text/plain": [
       "137311"
      ]
     },
     "execution_count": 8,
     "metadata": {},
     "output_type": "execute_result"
    }
   ],
   "source": [
    "#Identificacion de total de viajes\n",
    "df_company_trips['trips_amount'].sum()"
   ]
  },
  {
   "cell_type": "markdown",
   "metadata": {},
   "source": [
    "**Comments**: no se identifican cambios necesarios para esta columna."
   ]
  },
  {
   "cell_type": "markdown",
   "metadata": {},
   "source": [
    "### Identificacion de valores duplicados (df_company_trips) "
   ]
  },
  {
   "cell_type": "code",
   "execution_count": 9,
   "metadata": {},
   "outputs": [
    {
     "data": {
      "text/html": [
       "<div>\n",
       "<style scoped>\n",
       "    .dataframe tbody tr th:only-of-type {\n",
       "        vertical-align: middle;\n",
       "    }\n",
       "\n",
       "    .dataframe tbody tr th {\n",
       "        vertical-align: top;\n",
       "    }\n",
       "\n",
       "    .dataframe thead th {\n",
       "        text-align: right;\n",
       "    }\n",
       "</style>\n",
       "<table border=\"1\" class=\"dataframe\">\n",
       "  <thead>\n",
       "    <tr style=\"text-align: right;\">\n",
       "      <th></th>\n",
       "      <th>company_name</th>\n",
       "      <th>trips_amount</th>\n",
       "    </tr>\n",
       "  </thead>\n",
       "  <tbody>\n",
       "  </tbody>\n",
       "</table>\n",
       "</div>"
      ],
      "text/plain": [
       "Empty DataFrame\n",
       "Columns: [company_name, trips_amount]\n",
       "Index: []"
      ]
     },
     "execution_count": 9,
     "metadata": {},
     "output_type": "execute_result"
    }
   ],
   "source": [
    "#Validacion de lineas duplicadas completas \n",
    "df_company_trips[df_company_trips.duplicated()]"
   ]
  },
  {
   "cell_type": "code",
   "execution_count": 10,
   "metadata": {},
   "outputs": [
    {
     "data": {
      "text/html": [
       "<div>\n",
       "<style scoped>\n",
       "    .dataframe tbody tr th:only-of-type {\n",
       "        vertical-align: middle;\n",
       "    }\n",
       "\n",
       "    .dataframe tbody tr th {\n",
       "        vertical-align: top;\n",
       "    }\n",
       "\n",
       "    .dataframe thead th {\n",
       "        text-align: right;\n",
       "    }\n",
       "</style>\n",
       "<table border=\"1\" class=\"dataframe\">\n",
       "  <thead>\n",
       "    <tr style=\"text-align: right;\">\n",
       "      <th></th>\n",
       "      <th>company_name</th>\n",
       "      <th>trips_amount</th>\n",
       "    </tr>\n",
       "  </thead>\n",
       "  <tbody>\n",
       "  </tbody>\n",
       "</table>\n",
       "</div>"
      ],
      "text/plain": [
       "Empty DataFrame\n",
       "Columns: [company_name, trips_amount]\n",
       "Index: []"
      ]
     },
     "execution_count": 10,
     "metadata": {},
     "output_type": "execute_result"
    }
   ],
   "source": [
    "#Validacion de duplicados en colummna 'company_name'\n",
    "df_company_trips[df_company_trips['company_name'].duplicated()]"
   ]
  },
  {
   "cell_type": "markdown",
   "metadata": {},
   "source": [
    "**Comment:** en el primer dataset se identifican 64 compañias diferentes de taxi las cuales realizaron un total de +137K viajes. Los tipos de datos son correctos y no se encuentran valores ausentes. No se visualizan duplicados por linea ni por la columna \"company_name\". "
   ]
  },
  {
   "cell_type": "markdown",
   "metadata": {},
   "source": [
    "### Columna \"dropoff_location_name\" (df_barrios_trips) "
   ]
  },
  {
   "cell_type": "code",
   "execution_count": 11,
   "metadata": {},
   "outputs": [
    {
     "data": {
      "text/plain": [
       "0                Loop\n",
       "1         River North\n",
       "2       Streeterville\n",
       "3           West Loop\n",
       "4              O'Hare\n",
       "           ...       \n",
       "89    Mount Greenwood\n",
       "90          Hegewisch\n",
       "91           Burnside\n",
       "92          East Side\n",
       "93          Riverdale\n",
       "Name: dropoff_location_name, Length: 94, dtype: object"
      ]
     },
     "execution_count": 11,
     "metadata": {},
     "output_type": "execute_result"
    }
   ],
   "source": [
    "#Valores en columna dropoff_location_name\n",
    "df_barrios_trips['dropoff_location_name']"
   ]
  },
  {
   "cell_type": "code",
   "execution_count": 12,
   "metadata": {},
   "outputs": [
    {
     "data": {
      "text/plain": [
       "0                loop\n",
       "1         river north\n",
       "2       streeterville\n",
       "3           west loop\n",
       "4              o'hare\n",
       "           ...       \n",
       "89    mount greenwood\n",
       "90          hegewisch\n",
       "91           burnside\n",
       "92          east side\n",
       "93          riverdale\n",
       "Name: dropoff_location_name, Length: 94, dtype: object"
      ]
     },
     "execution_count": 12,
     "metadata": {},
     "output_type": "execute_result"
    }
   ],
   "source": [
    "#Cambiar nombres de dropoff_location_name a minusculas\n",
    "df_barrios_trips['dropoff_location_name'] = df_barrios_trips['dropoff_location_name'].str.lower()\n",
    "df_barrios_trips['dropoff_location_name'] = df_barrios_trips['dropoff_location_name'].str.strip()\n",
    "df_barrios_trips['dropoff_location_name']"
   ]
  },
  {
   "cell_type": "markdown",
   "metadata": {},
   "source": [
    "**Comments**: el tipo de dato para esta columna es el adecuado. Solo se hace el cambio de valores a minusculas."
   ]
  },
  {
   "cell_type": "markdown",
   "metadata": {},
   "source": [
    "### Columna \"average_trips\" (df_barrios_trips) "
   ]
  },
  {
   "cell_type": "code",
   "execution_count": 13,
   "metadata": {},
   "outputs": [
    {
     "data": {
      "text/plain": [
       "0     10727.466667\n",
       "1      9523.666667\n",
       "2      6664.666667\n",
       "3      5163.666667\n",
       "4      2546.900000\n",
       "          ...     \n",
       "89        3.137931\n",
       "90        3.117647\n",
       "91        2.333333\n",
       "92        1.961538\n",
       "93        1.800000\n",
       "Name: average_trips, Length: 94, dtype: float64"
      ]
     },
     "execution_count": 13,
     "metadata": {},
     "output_type": "execute_result"
    }
   ],
   "source": [
    "#Valores en columna average_trips\n",
    "df_barrios_trips['average_trips']"
   ]
  },
  {
   "cell_type": "code",
   "execution_count": 14,
   "metadata": {},
   "outputs": [
    {
     "data": {
      "text/plain": [
       "599.9537281902999"
      ]
     },
     "execution_count": 14,
     "metadata": {},
     "output_type": "execute_result"
    }
   ],
   "source": [
    "#Identificacion de promedio de viajes\n",
    "df_barrios_trips['average_trips'].mean()"
   ]
  },
  {
   "cell_type": "markdown",
   "metadata": {},
   "source": [
    "**Comments**: no se identifican cambios necesarios para esta columna."
   ]
  },
  {
   "cell_type": "markdown",
   "metadata": {},
   "source": [
    "### Identificacion de valores duplicados (df_company_trips) "
   ]
  },
  {
   "cell_type": "code",
   "execution_count": 15,
   "metadata": {},
   "outputs": [
    {
     "data": {
      "text/html": [
       "<div>\n",
       "<style scoped>\n",
       "    .dataframe tbody tr th:only-of-type {\n",
       "        vertical-align: middle;\n",
       "    }\n",
       "\n",
       "    .dataframe tbody tr th {\n",
       "        vertical-align: top;\n",
       "    }\n",
       "\n",
       "    .dataframe thead th {\n",
       "        text-align: right;\n",
       "    }\n",
       "</style>\n",
       "<table border=\"1\" class=\"dataframe\">\n",
       "  <thead>\n",
       "    <tr style=\"text-align: right;\">\n",
       "      <th></th>\n",
       "      <th>dropoff_location_name</th>\n",
       "      <th>average_trips</th>\n",
       "    </tr>\n",
       "  </thead>\n",
       "  <tbody>\n",
       "  </tbody>\n",
       "</table>\n",
       "</div>"
      ],
      "text/plain": [
       "Empty DataFrame\n",
       "Columns: [dropoff_location_name, average_trips]\n",
       "Index: []"
      ]
     },
     "execution_count": 15,
     "metadata": {},
     "output_type": "execute_result"
    }
   ],
   "source": [
    "#Validacion de lineas duplicadas completas \n",
    "df_barrios_trips[df_barrios_trips.duplicated()]"
   ]
  },
  {
   "cell_type": "code",
   "execution_count": 16,
   "metadata": {},
   "outputs": [
    {
     "data": {
      "text/html": [
       "<div>\n",
       "<style scoped>\n",
       "    .dataframe tbody tr th:only-of-type {\n",
       "        vertical-align: middle;\n",
       "    }\n",
       "\n",
       "    .dataframe tbody tr th {\n",
       "        vertical-align: top;\n",
       "    }\n",
       "\n",
       "    .dataframe thead th {\n",
       "        text-align: right;\n",
       "    }\n",
       "</style>\n",
       "<table border=\"1\" class=\"dataframe\">\n",
       "  <thead>\n",
       "    <tr style=\"text-align: right;\">\n",
       "      <th></th>\n",
       "      <th>dropoff_location_name</th>\n",
       "      <th>average_trips</th>\n",
       "    </tr>\n",
       "  </thead>\n",
       "  <tbody>\n",
       "  </tbody>\n",
       "</table>\n",
       "</div>"
      ],
      "text/plain": [
       "Empty DataFrame\n",
       "Columns: [dropoff_location_name, average_trips]\n",
       "Index: []"
      ]
     },
     "execution_count": 16,
     "metadata": {},
     "output_type": "execute_result"
    }
   ],
   "source": [
    "#Validacion de duplicados en colummna 'dropoff_location_name'\n",
    "df_barrios_trips[df_barrios_trips['dropoff_location_name'].duplicated()]"
   ]
  },
  {
   "cell_type": "markdown",
   "metadata": {},
   "source": [
    "**Comment:** en el segundo dataset se identifican 94 drop-off locations diferentes, las cuales tienen un promedio de casi 600 por location. Los tipos de datos son correctos y no se encuentran valores ausentes. No se visualizan duplicados por linea ni por la columna \"dropoff_location_name\". "
   ]
  },
  {
   "cell_type": "markdown",
   "metadata": {},
   "source": [
    "<div class=\"alert alert-block alert-success\">\n",
    "<b>Comentario del revisor (1ra Iteracion)</b> <a class=“tocSkip”></a>\n",
    "\n",
    "Muy buen trabajo con este preprocesamiento y análisis inicial de tus datos, un dataset limpio es clave para obtener métricas adecuadas \n",
    "</div>"
   ]
  },
  {
   "cell_type": "markdown",
   "metadata": {},
   "source": [
    "## Analisis Exploratorio"
   ]
  },
  {
   "cell_type": "markdown",
   "metadata": {},
   "source": [
    "###  Top 10 principales barrios en términos de finalización"
   ]
  },
  {
   "cell_type": "code",
   "execution_count": 17,
   "metadata": {},
   "outputs": [
    {
     "data": {
      "text/html": [
       "<div>\n",
       "<style scoped>\n",
       "    .dataframe tbody tr th:only-of-type {\n",
       "        vertical-align: middle;\n",
       "    }\n",
       "\n",
       "    .dataframe tbody tr th {\n",
       "        vertical-align: top;\n",
       "    }\n",
       "\n",
       "    .dataframe thead th {\n",
       "        text-align: right;\n",
       "    }\n",
       "</style>\n",
       "<table border=\"1\" class=\"dataframe\">\n",
       "  <thead>\n",
       "    <tr style=\"text-align: right;\">\n",
       "      <th></th>\n",
       "      <th>dropoff_location_name</th>\n",
       "      <th>average_trips</th>\n",
       "    </tr>\n",
       "  </thead>\n",
       "  <tbody>\n",
       "    <tr>\n",
       "      <th>0</th>\n",
       "      <td>loop</td>\n",
       "      <td>10727.466667</td>\n",
       "    </tr>\n",
       "    <tr>\n",
       "      <th>1</th>\n",
       "      <td>river north</td>\n",
       "      <td>9523.666667</td>\n",
       "    </tr>\n",
       "    <tr>\n",
       "      <th>2</th>\n",
       "      <td>streeterville</td>\n",
       "      <td>6664.666667</td>\n",
       "    </tr>\n",
       "    <tr>\n",
       "      <th>3</th>\n",
       "      <td>west loop</td>\n",
       "      <td>5163.666667</td>\n",
       "    </tr>\n",
       "    <tr>\n",
       "      <th>4</th>\n",
       "      <td>o'hare</td>\n",
       "      <td>2546.900000</td>\n",
       "    </tr>\n",
       "    <tr>\n",
       "      <th>5</th>\n",
       "      <td>lake view</td>\n",
       "      <td>2420.966667</td>\n",
       "    </tr>\n",
       "    <tr>\n",
       "      <th>6</th>\n",
       "      <td>grant park</td>\n",
       "      <td>2068.533333</td>\n",
       "    </tr>\n",
       "    <tr>\n",
       "      <th>7</th>\n",
       "      <td>museum campus</td>\n",
       "      <td>1510.000000</td>\n",
       "    </tr>\n",
       "    <tr>\n",
       "      <th>8</th>\n",
       "      <td>gold coast</td>\n",
       "      <td>1364.233333</td>\n",
       "    </tr>\n",
       "    <tr>\n",
       "      <th>9</th>\n",
       "      <td>sheffield &amp; depaul</td>\n",
       "      <td>1259.766667</td>\n",
       "    </tr>\n",
       "  </tbody>\n",
       "</table>\n",
       "</div>"
      ],
      "text/plain": [
       "  dropoff_location_name  average_trips\n",
       "0                  loop   10727.466667\n",
       "1           river north    9523.666667\n",
       "2         streeterville    6664.666667\n",
       "3             west loop    5163.666667\n",
       "4                o'hare    2546.900000\n",
       "5             lake view    2420.966667\n",
       "6            grant park    2068.533333\n",
       "7         museum campus    1510.000000\n",
       "8            gold coast    1364.233333\n",
       "9    sheffield & depaul    1259.766667"
      ]
     },
     "execution_count": 17,
     "metadata": {},
     "output_type": "execute_result"
    }
   ],
   "source": [
    "top_10_dropoff = df_barrios_trips.sort_index(ascending=True)\n",
    "top_10_dropoff = top_10_dropoff.head(10)\n",
    "top_10_dropoff"
   ]
  },
  {
   "cell_type": "code",
   "execution_count": 18,
   "metadata": {},
   "outputs": [
    {
     "data": {
      "text/plain": [
       "<AxesSubplot:title={'center':'Promedio de viajes por ubicacion de finalizacion en Chicago'}, xlabel='Dropoff_Location', ylabel='Average'>"
      ]
     },
     "execution_count": 18,
     "metadata": {},
     "output_type": "execute_result"
    },
    {
     "data": {
      "image/png": "[encoded data removed]",
      "text/plain": [
       "<Figure size 640x480 with 1 Axes>"
      ]
     },
     "metadata": {},
     "output_type": "display_data"
    }
   ],
   "source": [
    "top_10_dropoff.plot(\n",
    "    kind = 'bar',\n",
    "    title = 'Promedio de viajes por ubicacion de finalizacion en Chicago',\n",
    "    xlabel = 'Dropoff_Location',\n",
    "    ylabel = 'Average',\n",
    "    x = 'dropoff_location_name'\n",
    ")"
   ]
  },
  {
   "cell_type": "markdown",
   "metadata": {},
   "source": [
    "**Comment:** analizando las ubicaciones en Google Maps, se identifica que las 4 primeras son en el downtown, ya sea en el Loop o en la parte norte del mismo, con un promedio por encima de los 5k viajes. La quinta ubicacion es el aeropuerto internacional de la ciudad con un promedio de 2.5k viajes."
   ]
  },
  {
   "cell_type": "markdown",
   "metadata": {},
   "source": [
    "<div class=\"alert alert-block alert-success\">\n",
    "<b>Comentario del revisor (1ra Iteracion)</b> <a class=“tocSkip”></a>\n",
    "\n",
    "Excelente, se muestra una gráfica clara de los top 10 principales barrios. \n",
    "</div>"
   ]
  },
  {
   "cell_type": "markdown",
   "metadata": {},
   "source": [
    "###  Top 10 principales empresas de taxis"
   ]
  },
  {
   "cell_type": "code",
   "execution_count": 19,
   "metadata": {},
   "outputs": [
    {
     "data": {
      "text/html": [
       "<div>\n",
       "<style scoped>\n",
       "    .dataframe tbody tr th:only-of-type {\n",
       "        vertical-align: middle;\n",
       "    }\n",
       "\n",
       "    .dataframe tbody tr th {\n",
       "        vertical-align: top;\n",
       "    }\n",
       "\n",
       "    .dataframe thead th {\n",
       "        text-align: right;\n",
       "    }\n",
       "</style>\n",
       "<table border=\"1\" class=\"dataframe\">\n",
       "  <thead>\n",
       "    <tr style=\"text-align: right;\">\n",
       "      <th></th>\n",
       "      <th>company_name</th>\n",
       "      <th>trips_amount</th>\n",
       "    </tr>\n",
       "  </thead>\n",
       "  <tbody>\n",
       "    <tr>\n",
       "      <th>0</th>\n",
       "      <td>flash cab</td>\n",
       "      <td>19558</td>\n",
       "    </tr>\n",
       "    <tr>\n",
       "      <th>1</th>\n",
       "      <td>taxi affiliation services</td>\n",
       "      <td>11422</td>\n",
       "    </tr>\n",
       "    <tr>\n",
       "      <th>2</th>\n",
       "      <td>medallion leasing</td>\n",
       "      <td>10367</td>\n",
       "    </tr>\n",
       "    <tr>\n",
       "      <th>3</th>\n",
       "      <td>yellow cab</td>\n",
       "      <td>9888</td>\n",
       "    </tr>\n",
       "    <tr>\n",
       "      <th>4</th>\n",
       "      <td>taxi affiliation service yellow</td>\n",
       "      <td>9299</td>\n",
       "    </tr>\n",
       "    <tr>\n",
       "      <th>5</th>\n",
       "      <td>chicago carriage cab corp</td>\n",
       "      <td>9181</td>\n",
       "    </tr>\n",
       "    <tr>\n",
       "      <th>6</th>\n",
       "      <td>city service</td>\n",
       "      <td>8448</td>\n",
       "    </tr>\n",
       "    <tr>\n",
       "      <th>7</th>\n",
       "      <td>sun taxi</td>\n",
       "      <td>7701</td>\n",
       "    </tr>\n",
       "    <tr>\n",
       "      <th>8</th>\n",
       "      <td>star north management llc</td>\n",
       "      <td>7455</td>\n",
       "    </tr>\n",
       "    <tr>\n",
       "      <th>9</th>\n",
       "      <td>blue ribbon taxi association inc.</td>\n",
       "      <td>5953</td>\n",
       "    </tr>\n",
       "  </tbody>\n",
       "</table>\n",
       "</div>"
      ],
      "text/plain": [
       "                        company_name  trips_amount\n",
       "0                          flash cab         19558\n",
       "1          taxi affiliation services         11422\n",
       "2                  medallion leasing         10367\n",
       "3                         yellow cab          9888\n",
       "4    taxi affiliation service yellow          9299\n",
       "5          chicago carriage cab corp          9181\n",
       "6                       city service          8448\n",
       "7                           sun taxi          7701\n",
       "8          star north management llc          7455\n",
       "9  blue ribbon taxi association inc.          5953"
      ]
     },
     "execution_count": 19,
     "metadata": {},
     "output_type": "execute_result"
    }
   ],
   "source": [
    "top_10_companies = df_company_trips.sort_index(ascending=True)\n",
    "top_10_companies = top_10_companies.head(10)\n",
    "top_10_companies"
   ]
  },
  {
   "cell_type": "code",
   "execution_count": 20,
   "metadata": {},
   "outputs": [
    {
     "data": {
      "text/plain": [
       "<AxesSubplot:title={'center':'Viajes totales por compañia de taxis el 15 y 16 de Nov en Chicago'}, xlabel='Company Name', ylabel='Total trips'>"
      ]
     },
     "execution_count": 20,
     "metadata": {},
     "output_type": "execute_result"
    },
    {
     "data": {
      "image/png": "[encoded data removed]",
      "text/plain": [
       "<Figure size 640x480 with 1 Axes>"
      ]
     },
     "metadata": {},
     "output_type": "display_data"
    }
   ],
   "source": [
    "top_10_companies.plot(\n",
    "    kind = 'bar',\n",
    "    title = 'Viajes totales por compañia de taxis el 15 y 16 de Nov en Chicago',\n",
    "    xlabel = 'Company Name',\n",
    "    ylabel = 'Total trips',\n",
    "    x = 'company_name'\n",
    ")"
   ]
  },
  {
   "cell_type": "markdown",
   "metadata": {},
   "source": [
    "**Comment:** se identifican las top 10 empresas de taxis en Chicago, de las cuales destaca Flash Cab como empresa dominante en el mercado, con un total de +19.5k viajes. Hay una mayor diferencia (+8.1k viajes) entre la empresa #1 y la #2, que entre la #2 y la #10 (5.4k viajes)."
   ]
  },
  {
   "cell_type": "markdown",
   "metadata": {},
   "source": [
    "<div class=\"alert alert-block alert-success\">\n",
    "<b>Comentario del revisor (1ra Iteracion)</b> <a class=“tocSkip”></a>\n",
    "\n",
    "Excelente, se muestra una gráfica clara de los top 10 principales empresas. \n",
    "</div>"
   ]
  },
  {
   "cell_type": "markdown",
   "metadata": {},
   "source": [
    "## Prueba de Hipotesis"
   ]
  },
  {
   "cell_type": "code",
   "execution_count": 21,
   "metadata": {},
   "outputs": [
    {
     "data": {
      "text/plain": [
       "6    1068\n",
       "Name: day, dtype: Int64"
      ]
     },
     "execution_count": 21,
     "metadata": {},
     "output_type": "execute_result"
    }
   ],
   "source": [
    "#Generacion de nueva columna identificando el dia de la semana segun .isocalendar()\n",
    "df_trips_loop_aero['day'] = pd.to_datetime(df_trips_loop_aero['start_ts']).dt.isocalendar().day\n",
    "df_trips_loop_aero['day'].value_counts()"
   ]
  },
  {
   "cell_type": "code",
   "execution_count": 22,
   "metadata": {},
   "outputs": [
    {
     "name": "stdout",
     "output_type": "stream",
     "text": [
      "                 start_ts weather_conditions  duration_seconds  day\n",
      "0     2017-11-25 16:00:00               Good            2410.0    6\n",
      "1     2017-11-25 14:00:00               Good            1920.0    6\n",
      "2     2017-11-25 12:00:00               Good            1543.0    6\n",
      "3     2017-11-04 10:00:00               Good            2512.0    6\n",
      "4     2017-11-11 07:00:00               Good            1440.0    6\n",
      "...                   ...                ...               ...  ...\n",
      "1063  2017-11-25 11:00:00               Good               0.0    6\n",
      "1064  2017-11-11 10:00:00               Good            1318.0    6\n",
      "1065  2017-11-11 13:00:00               Good            2100.0    6\n",
      "1066  2017-11-11 08:00:00               Good            1380.0    6\n",
      "1067  2017-11-04 16:00:00                Bad            2834.0    6\n",
      "\n",
      "[1068 rows x 4 columns]\n"
     ]
    }
   ],
   "source": [
    "#Filtro de dataframe para segmentar solo los dias sabados.\n",
    "df_trips_loop_aero_ = df_trips_loop_aero[df_trips_loop_aero['day'] == 6]\n",
    "print(df_trips_loop_aero_)"
   ]
  },
  {
   "cell_type": "code",
   "execution_count": 23,
   "metadata": {},
   "outputs": [
    {
     "data": {
      "text/plain": [
       "Good    888\n",
       "Bad     180\n",
       "Name: weather_conditions, dtype: int64"
      ]
     },
     "execution_count": 23,
     "metadata": {},
     "output_type": "execute_result"
    }
   ],
   "source": [
    "#Identificacion de magnitud de valores en weather_conditions \n",
    "df_trips_loop_aero_['weather_conditions'].value_counts()"
   ]
  },
  {
   "cell_type": "code",
   "execution_count": 24,
   "metadata": {},
   "outputs": [
    {
     "data": {
      "text/plain": [
       "weather_conditions\n",
       "Bad     2427.205556\n",
       "Good    1999.675676\n",
       "Name: duration_seconds, dtype: float64"
      ]
     },
     "execution_count": 24,
     "metadata": {},
     "output_type": "execute_result"
    }
   ],
   "source": [
    "#Calculo del promedio de duracion de viajer por condicion climatica\n",
    "df_trips_loop_aero_.groupby('weather_conditions')['duration_seconds'].mean()"
   ]
  },
  {
   "cell_type": "code",
   "execution_count": 25,
   "metadata": {},
   "outputs": [
    {
     "data": {
      "text/plain": [
       "575732.9308497686"
      ]
     },
     "execution_count": 25,
     "metadata": {},
     "output_type": "execute_result"
    }
   ],
   "source": [
    "#Calculo de varianza para valores de Good Conditions en viajes del Loop al Aeropuerto\n",
    "np.var(df_trips_loop_aero_[df_trips_loop_aero_['weather_conditions'] == 'Good']['duration_seconds'])"
   ]
  },
  {
   "cell_type": "code",
   "execution_count": 26,
   "metadata": {},
   "outputs": [
    {
     "data": {
      "text/plain": [
       "517403.56330246915"
      ]
     },
     "execution_count": 26,
     "metadata": {},
     "output_type": "execute_result"
    }
   ],
   "source": [
    "#Calculo de varianza para valores de Bad Conditions en viajes del Loop al Aeropuerto\n",
    "np.var(df_trips_loop_aero_[df_trips_loop_aero_['weather_conditions'] == 'Bad']['duration_seconds'])"
   ]
  },
  {
   "cell_type": "code",
   "execution_count": 27,
   "metadata": {},
   "outputs": [
    {
     "data": {
      "text/plain": [
       "LeveneResult(statistic=0.38853489683656073, pvalue=0.5332038671974493)"
      ]
     },
     "execution_count": 27,
     "metadata": {},
     "output_type": "execute_result"
    }
   ],
   "source": [
    "# Prueba de Levene centrada en la mediana\n",
    "\n",
    "alpha = 0.05 #nivel de significacion\n",
    "\n",
    "st.levene(df_trips_loop_aero_[df_trips_loop_aero_['weather_conditions'] == 'Good']['duration_seconds'],\n",
    "    df_trips_loop_aero_[df_trips_loop_aero_['weather_conditions'] == 'Bad']['duration_seconds'], center = 'median')"
   ]
  },
  {
   "cell_type": "code",
   "execution_count": 28,
   "metadata": {},
   "outputs": [
    {
     "data": {
      "text/plain": [
       "LeveneResult(statistic=0.7184273561022895, pvalue=0.3968505113995001)"
      ]
     },
     "execution_count": 28,
     "metadata": {},
     "output_type": "execute_result"
    }
   ],
   "source": [
    "# Prueba de Levene centrada en la media\n",
    "\n",
    "alpha = 0.05 #nivel de significacion\n",
    "\n",
    "st.levene(df_trips_loop_aero_[df_trips_loop_aero_['weather_conditions'] == 'Good']['duration_seconds'],\n",
    "    df_trips_loop_aero_[df_trips_loop_aero_['weather_conditions'] == 'Bad']['duration_seconds'], center = 'mean')"
   ]
  },
  {
   "cell_type": "markdown",
   "metadata": {},
   "source": [
    "**Comments**: se calculan las varianzas de ambas muestras y se realiza prueba de Levene tanto centrada en la mediana como centrada en la media y con los valores obtenidos mayores a 0.05 (0.53 & 0.39) no se descarta la hipotesis nula, por lo que se determina que las varianzas seran iguales en la prueba de hipotesis. "
   ]
  },
  {
   "cell_type": "code",
   "execution_count": 29,
   "metadata": {},
   "outputs": [
    {
     "name": "stdout",
     "output_type": "stream",
     "text": [
      "Valor p: 0.0 %\n"
     ]
    }
   ],
   "source": [
    "# Prueba las hipótesis\n",
    "\n",
    "#H0 = 'La duración promedio de los viajes desde el Loop hasta el Aeropuerto Internacional O'Hare es igual los sábados lluviosos\".'\n",
    "#Ha = 'La duración promedio de los viajes desde el Loop hasta el Aeropuerto Internacional O'Hare cambia los sábados lluviosos.'\n",
    "\n",
    "alpha = 0.05 #nivel de significacion\n",
    "\n",
    "result = st.ttest_ind(\n",
    "    df_trips_loop_aero_[df_trips_loop_aero_['weather_conditions'] == 'Good']['duration_seconds'],\n",
    "    df_trips_loop_aero_[df_trips_loop_aero_['weather_conditions'] == 'Bad']['duration_seconds'],\n",
    "    equal_var = True\n",
    ")\n",
    "print(\"Valor p:\",(result.pvalue * 100).round(5),'%')"
   ]
  },
  {
   "cell_type": "markdown",
   "metadata": {},
   "source": [
    "<div class=\"alert alert-block alert-danger\">\n",
    "<b>Comentario del revisor (1ra Iteracion)</b> <a class=“tocSkip”></a>\n",
    "\n",
    "Realizaste un muy buen avance con tu proyecto Angel! Pero en esta parte de la prueba de hipótesis te hace falta incluir una parte del filtro para que tomes los datos solo de los días sábados, la parte de si está con lluvia es correcta pero no se está filtrando para los días sábados\n",
    "</div>"
   ]
  },
  {
   "cell_type": "markdown",
   "metadata": {},
   "source": [
    "<div class=\"alert alert-block alert-info\">\n",
    "<b>Respuesta del estudiante</b> <a class=“tocSkip”></a>: Gracias por la observacion, al inicio del bloque se realiza el filtro en un nuevo dataframe df_trips_loop_aero_ con los valores de dia = 6 (Sabado), para posteriormente continuar con las pruebas de varianza e hipotesis. \n",
    "</div>"
   ]
  },
  {
   "cell_type": "markdown",
   "metadata": {},
   "source": [
    "**Comments**: se generan la prueba de hipotesis, debido a que se busca comparar la igualdad de las medias entre dos poblaciones estadisticas, se procede a aplicar la prueba de dos muestras con la funcion scipy.stats.ttest_ind y se establece un umbral alpha de 0.05.\n",
    "- Al comparar la duracion promedio de los viajes desde el Loop hasta el Aeropueto en sabados lluviosos, se define como hipotesis nula que son las mismas, e hipotesis alternativa que son diferentes. Se descarta la hipotesis nula por el valor P obtenido de 0.0%."
   ]
  },
  {
   "cell_type": "markdown",
   "metadata": {},
   "source": [
    "## Conclusion General"
   ]
  },
  {
   "cell_type": "markdown",
   "metadata": {},
   "source": [
    "Para este proyecto se realizaron los siguientes pasos:\n",
    "\n",
    "1) **Carga de librerias y conjunto de datos**\n",
    "    - *tabla neighborhoods:* datos sobre los barrios de la ciudad\n",
    "    - *tabla cabs:* datos sobre los taxis\n",
    "    - *tabla trips:* datos sobre los viajes\n",
    "    - *tabla weather_records:* datos sobre el clima\n",
    "    - *project_sql_result_01.csv:* datos sobre las empresas de taxi y cantidad de viajes el 15 y 16 de noviembre de 2017.\n",
    "    - *project_sql_result_04.csv:* datos sobre barrios de Chicago donde finalizan viajes y el promedio de los mismos.\n",
    "    - *project_sql_result_07.csv:* datos sobre viajes desde el Loop hasta el Aeropuerto Internacional O'Hare.**\n",
    "\n",
    "2) **Procesamiento de los datos.**\n",
    "    - *Columna \"company_name\" (df_company_trips)*: el tipo de dato para esta columna es el adecuado. Solo se hace el cambio de valores a minusculas.\n",
    "    - *Columna \"trips_amount\" (df_company_trips)*: no se identifican cambios necesarios para esta columna.\n",
    "    - *Identificacion de valores duplicados (df_company_trips)*: en el primer dataset se identifican 64 compañias diferentes de taxi las cuales realizaron un total de +137K viajes. Los tipos de datos son correctos y no se encuentran valores ausentes. No se visualizan duplicados por linea ni por la columna \"company_name\". \n",
    "    - *Columna \"dropoff_location_name\" (df_barrios_trips)*: el tipo de dato para esta columna es el adecuado. Solo se hace el cambio de valores a minusculas.\n",
    "    - *Columna \"average_trips\" (df_barrios_trips)*: no se identifican cambios necesarios para esta columna.\n",
    "    - *Identificacion de valores duplicados (df_company_trips) *: en el segundo dataset se identifican 94 drop-off locations diferentes, las cuales tienen un promedio de casi 600 por location. Los tipos de datos son correctos y no se encuentran valores ausentes. No se visualizan duplicados por linea ni por la columna \"dropoff_location_name\". \n",
    "\n",
    "3) **Analisis Exploratorio.**\n",
    "    - *Top 10 principales barrios en términos de finalización*: alizando las ubicaciones en Google Maps, se identifica que las 4 primeras son en el downtown, ya sea en el Loop o en la parte norte del mismo, con un promedio por encima de los 5k viajes. La quinta ubicacion es el aeropuerto internacional de la ciudad con un promedio de 2.5k viajes.\n",
    "    - *Top 10 principales empresas de taxis*: se identifican las top 10 empresas de taxis en Chicago, de las cuales destaca Flash Cab como empresa dominante en el mercado, con un total de +19.5k viajes. Hay una mayor diferencia (+8.1k viajes) entre la empresa #1 y la #2, que entre la #2 y la #10 (5.4k viajes).\n",
    "    \n",
    "<div class=\"alert alert-block alert-info\">\n",
    "<a class=“tocSkip”></a> \n",
    "    - Top 10 principales barrios: se concluye que principalmente los barrios con mayor demanda se encuentran en el centro o el aeropuerto, por lo que se deberia priorizar tener un volumen significativo de taxis/bases en estas locaciones para eventualmente poder retonar a los pasajeros a su lugar de origen.\n",
    "</div>\n",
    "<div class=\"alert alert-block alert-info\">\n",
    "<a class=“tocSkip”></a>\n",
    "    - Top 10 empresas: se concluye que hay un significativo dominio del mercado por parte de Flash Cab, por lo que resultaria interesante hacer un analisis de sus estrategias con el fin de realizar benchmarking e identificar acciones que se puedan replicar o mejorar.\n",
    "</div>\n",
    "    \n",
    "\n",
    "4) **Prueba de Hipotesis.**\n",
    "    - Se genera la prueba de hipotesis, debido a que se busca comparar la igualdad de las medias entre dos poblaciones estadisticas, se procede a aplicar la prueba de dos muestras con la funcion scipy.stats.ttest_ind y se establece un umbral alpha de 0.05.\n",
    "        - Al comparar la duracion promedio de los viajes desde el Loop hasta el Aeropuerto en sabados lluviosos, se define como hipotesis nula que son las mismas, e hipotesis alternativa que son diferentes. \n",
    "        - Se descarta la hipotesis nula por el valor P obtenido de 0.0%.\n",
    "\n",
    "<div class=\"alert alert-block alert-info\">\n",
    "<a class=“tocSkip”></a>\n",
    "    - Se concluye que no es igual la duracion de los viajes de los viajes del Loop al Aeropuerto comparando contra los sabados lluviosos, por lo que se recomienda revisar los pronosticos del clima con anticipacion para poder prever tener disponibles mas unidades, ya que tardan mas en desocuparse, y asi evitar perder posibles viajes o generar mas demoras en los clientes.\n",
    "</div>"
   ]
  },
  {
   "cell_type": "markdown",
   "metadata": {},
   "source": [
    "<div class=\"alert alert-block alert-danger\">\n",
    "<b>Comentario del revisor (1ra Iteracion)</b> <a class=“tocSkip”></a>\n",
    "\n",
    "Para tus conclusiones no sólo debes redactar en cuanto al proceso técnico que realizaste sino a las métricas que has revisado, las gráficas mostradas, que nos dicen estos datos que puedan traer valor a la empresa, la prueba de hipótesis a que conclusión nos lleva? Deberías responder a este tipo de preguntas en la sección final de tu notebook\n",
    "</div>"
   ]
  },
  {
   "cell_type": "markdown",
   "metadata": {},
   "source": [
    "<div class=\"alert alert-block alert-info\">\n",
    "<b>Respuesta del estudiante</b> <a class=“tocSkip”></a>: Gracias por la observacion, se complementan las conlcusiones con comentarios de los resultados obtenidos y recomendaciones de valor para la empresa. \n",
    "</div>"
   ]
  },
  {
   "cell_type": "markdown",
   "metadata": {},
   "source": [
    "<div class=\"alert alert-block alert-success\">\n",
    "<b>Comentario del revisor (2da Iteracion)</b> <a class=“tocSkip”></a>\n",
    "\n",
    "Buen trabajo con los cambios! Ahora es más claro lo que concluíste respecto a tu trabajo. Recuerda siempre revisar los datos con los que vas a revisar las pruebas de hipótesis ya que es un punto importante cuando más adelante hagas pruebas AB y determines el grupo que mejor desempeño tuvo en tu experimento.\n",
    "</div>"
   ]
  }
 ],
 "metadata": {
  "ExecuteTimeLog": [
   {
    "duration": 2560,
    "start_time": "2024-10-21T20:28:21.892Z"
   },
   {
    "duration": 569,
    "start_time": "2024-10-21T20:30:09.944Z"
   },
   {
    "duration": 78,
    "start_time": "2024-10-21T20:31:20.477Z"
   },
   {
    "duration": 131,
    "start_time": "2024-10-21T20:31:42.801Z"
   },
   {
    "duration": 22,
    "start_time": "2024-10-21T20:32:00.370Z"
   },
   {
    "duration": 18,
    "start_time": "2024-10-21T20:32:10.610Z"
   },
   {
    "duration": 5,
    "start_time": "2024-10-21T20:32:16.224Z"
   },
   {
    "duration": 6,
    "start_time": "2024-10-21T20:32:18.686Z"
   },
   {
    "duration": 9,
    "start_time": "2024-10-21T20:32:30.100Z"
   },
   {
    "duration": 9,
    "start_time": "2024-10-21T20:32:44.773Z"
   },
   {
    "duration": 12,
    "start_time": "2024-10-21T20:32:50.672Z"
   },
   {
    "duration": 16,
    "start_time": "2024-10-21T20:34:50.389Z"
   },
   {
    "duration": 6,
    "start_time": "2024-10-21T20:38:34.740Z"
   },
   {
    "duration": 7,
    "start_time": "2024-10-21T20:56:55.372Z"
   },
   {
    "duration": 5,
    "start_time": "2024-10-21T20:57:11.197Z"
   },
   {
    "duration": 6,
    "start_time": "2024-10-21T20:58:20.062Z"
   },
   {
    "duration": 6,
    "start_time": "2024-10-21T20:59:46.703Z"
   },
   {
    "duration": 4,
    "start_time": "2024-10-21T21:01:02.713Z"
   },
   {
    "duration": 4,
    "start_time": "2024-10-21T21:01:39.913Z"
   },
   {
    "duration": 5,
    "start_time": "2024-10-21T21:04:11.522Z"
   },
   {
    "duration": 7,
    "start_time": "2024-10-21T21:04:26.028Z"
   },
   {
    "duration": 6,
    "start_time": "2024-10-21T21:05:08.090Z"
   },
   {
    "duration": 2,
    "start_time": "2024-10-21T21:08:26.504Z"
   },
   {
    "duration": 5,
    "start_time": "2024-10-21T21:09:09.800Z"
   },
   {
    "duration": 6,
    "start_time": "2024-10-21T21:10:36.529Z"
   },
   {
    "duration": 2,
    "start_time": "2024-10-21T21:11:12.681Z"
   },
   {
    "duration": 5,
    "start_time": "2024-10-21T21:11:50.763Z"
   },
   {
    "duration": 4,
    "start_time": "2024-10-21T21:12:54.997Z"
   },
   {
    "duration": 7,
    "start_time": "2024-10-21T21:13:57.549Z"
   },
   {
    "duration": 5,
    "start_time": "2024-10-21T21:14:40.720Z"
   },
   {
    "duration": 6,
    "start_time": "2024-10-21T21:19:52.232Z"
   },
   {
    "duration": 8,
    "start_time": "2024-10-21T21:20:17.752Z"
   },
   {
    "duration": 9,
    "start_time": "2024-10-21T21:20:32.239Z"
   },
   {
    "duration": 11,
    "start_time": "2024-10-21T21:20:40.535Z"
   },
   {
    "duration": 7,
    "start_time": "2024-10-21T21:20:54.481Z"
   },
   {
    "duration": 953,
    "start_time": "2024-10-21T21:27:55.466Z"
   },
   {
    "duration": 3,
    "start_time": "2024-10-21T21:29:02.603Z"
   },
   {
    "duration": 5,
    "start_time": "2024-10-21T21:29:04.831Z"
   },
   {
    "duration": 3,
    "start_time": "2024-10-21T21:29:08.103Z"
   },
   {
    "duration": 3,
    "start_time": "2024-10-21T21:29:09.828Z"
   },
   {
    "duration": 7,
    "start_time": "2024-10-21T21:29:21.872Z"
   },
   {
    "duration": 149,
    "start_time": "2024-10-21T21:29:30.859Z"
   },
   {
    "duration": 8,
    "start_time": "2024-10-21T21:35:58.029Z"
   },
   {
    "duration": 17,
    "start_time": "2024-10-21T21:37:33.232Z"
   },
   {
    "duration": 17,
    "start_time": "2024-10-21T21:38:15.760Z"
   },
   {
    "duration": 16,
    "start_time": "2024-10-21T21:39:24.941Z"
   },
   {
    "duration": 15,
    "start_time": "2024-10-21T21:39:28.653Z"
   },
   {
    "duration": 15,
    "start_time": "2024-10-21T21:39:33.380Z"
   },
   {
    "duration": 13,
    "start_time": "2024-10-21T21:39:37.442Z"
   },
   {
    "duration": 4,
    "start_time": "2024-10-21T21:39:41.018Z"
   },
   {
    "duration": 7,
    "start_time": "2024-10-21T21:39:44.326Z"
   },
   {
    "duration": 149,
    "start_time": "2024-10-21T21:42:09.509Z"
   },
   {
    "duration": 7,
    "start_time": "2024-10-21T21:50:59.564Z"
   },
   {
    "duration": 189,
    "start_time": "2024-10-21T21:53:17.578Z"
   },
   {
    "duration": 194,
    "start_time": "2024-10-22T01:55:11.272Z"
   },
   {
    "duration": 2569,
    "start_time": "2024-10-22T01:55:24.621Z"
   },
   {
    "duration": 19,
    "start_time": "2024-10-22T01:55:27.192Z"
   },
   {
    "duration": 15,
    "start_time": "2024-10-22T01:55:27.213Z"
   },
   {
    "duration": 15,
    "start_time": "2024-10-22T01:55:27.230Z"
   },
   {
    "duration": 5,
    "start_time": "2024-10-22T01:55:27.247Z"
   },
   {
    "duration": 7,
    "start_time": "2024-10-22T01:55:27.253Z"
   },
   {
    "duration": 4,
    "start_time": "2024-10-22T01:55:27.261Z"
   },
   {
    "duration": 3,
    "start_time": "2024-10-22T01:55:27.267Z"
   },
   {
    "duration": 6,
    "start_time": "2024-10-22T01:55:27.272Z"
   },
   {
    "duration": 34,
    "start_time": "2024-10-22T01:55:27.280Z"
   },
   {
    "duration": 7,
    "start_time": "2024-10-22T01:55:27.316Z"
   },
   {
    "duration": 8,
    "start_time": "2024-10-22T01:55:27.324Z"
   },
   {
    "duration": 4,
    "start_time": "2024-10-22T01:55:27.335Z"
   },
   {
    "duration": 4,
    "start_time": "2024-10-22T01:55:27.341Z"
   },
   {
    "duration": 8,
    "start_time": "2024-10-22T01:55:27.347Z"
   },
   {
    "duration": 5,
    "start_time": "2024-10-22T01:55:27.357Z"
   },
   {
    "duration": 48,
    "start_time": "2024-10-22T01:55:27.364Z"
   },
   {
    "duration": 166,
    "start_time": "2024-10-22T01:55:27.414Z"
   },
   {
    "duration": 6,
    "start_time": "2024-10-22T01:55:27.582Z"
   },
   {
    "duration": 211,
    "start_time": "2024-10-22T01:55:27.589Z"
   },
   {
    "duration": 13,
    "start_time": "2024-10-22T01:58:00.580Z"
   },
   {
    "duration": 10,
    "start_time": "2024-10-22T02:00:11.098Z"
   },
   {
    "duration": 12,
    "start_time": "2024-10-22T02:00:30.860Z"
   },
   {
    "duration": 5,
    "start_time": "2024-10-22T02:02:18.536Z"
   },
   {
    "duration": 6,
    "start_time": "2024-10-22T02:03:49.746Z"
   },
   {
    "duration": 6,
    "start_time": "2024-10-22T02:08:55.054Z"
   },
   {
    "duration": 7,
    "start_time": "2024-10-22T02:09:28.647Z"
   },
   {
    "duration": 6,
    "start_time": "2024-10-22T02:11:04.635Z"
   },
   {
    "duration": 5,
    "start_time": "2024-10-22T02:11:15.436Z"
   },
   {
    "duration": 6,
    "start_time": "2024-10-22T02:11:20.374Z"
   },
   {
    "duration": 708,
    "start_time": "2024-10-22T02:11:51.196Z"
   },
   {
    "duration": 32,
    "start_time": "2024-10-22T02:11:51.919Z"
   },
   {
    "duration": 14,
    "start_time": "2024-10-22T02:11:51.954Z"
   },
   {
    "duration": 13,
    "start_time": "2024-10-22T02:11:51.970Z"
   },
   {
    "duration": 5,
    "start_time": "2024-10-22T02:11:51.986Z"
   },
   {
    "duration": 6,
    "start_time": "2024-10-22T02:11:51.992Z"
   },
   {
    "duration": 4,
    "start_time": "2024-10-22T02:11:52.000Z"
   },
   {
    "duration": 29,
    "start_time": "2024-10-22T02:11:52.006Z"
   },
   {
    "duration": 7,
    "start_time": "2024-10-22T02:11:52.040Z"
   },
   {
    "duration": 5,
    "start_time": "2024-10-22T02:11:52.049Z"
   },
   {
    "duration": 4,
    "start_time": "2024-10-22T02:11:52.056Z"
   },
   {
    "duration": 6,
    "start_time": "2024-10-22T02:11:52.062Z"
   },
   {
    "duration": 5,
    "start_time": "2024-10-22T02:11:52.070Z"
   },
   {
    "duration": 3,
    "start_time": "2024-10-22T02:11:52.079Z"
   },
   {
    "duration": 6,
    "start_time": "2024-10-22T02:11:52.084Z"
   },
   {
    "duration": 42,
    "start_time": "2024-10-22T02:11:52.092Z"
   },
   {
    "duration": 6,
    "start_time": "2024-10-22T02:11:52.137Z"
   },
   {
    "duration": 160,
    "start_time": "2024-10-22T02:11:52.145Z"
   },
   {
    "duration": 24,
    "start_time": "2024-10-22T02:11:52.307Z"
   },
   {
    "duration": 212,
    "start_time": "2024-10-22T02:11:52.344Z"
   },
   {
    "duration": 5,
    "start_time": "2024-10-22T02:11:52.559Z"
   },
   {
    "duration": 5,
    "start_time": "2024-10-22T02:11:52.566Z"
   },
   {
    "duration": 4,
    "start_time": "2024-10-22T02:11:52.573Z"
   },
   {
    "duration": 5,
    "start_time": "2024-10-22T02:11:52.579Z"
   },
   {
    "duration": 6,
    "start_time": "2024-10-22T02:11:52.587Z"
   },
   {
    "duration": 5,
    "start_time": "2024-10-22T02:11:52.595Z"
   },
   {
    "duration": 104,
    "start_time": "2024-10-22T02:14:17.905Z"
   },
   {
    "duration": 9,
    "start_time": "2024-10-22T02:15:40.966Z"
   },
   {
    "duration": 303,
    "start_time": "2024-10-22T02:16:49.037Z"
   },
   {
    "duration": 14,
    "start_time": "2024-10-22T02:16:59.832Z"
   },
   {
    "duration": 12,
    "start_time": "2024-10-22T02:17:21.172Z"
   },
   {
    "duration": 14,
    "start_time": "2024-10-22T02:17:41.660Z"
   },
   {
    "duration": 14,
    "start_time": "2024-10-22T02:18:03.173Z"
   },
   {
    "duration": 4,
    "start_time": "2024-10-22T02:19:15.340Z"
   },
   {
    "duration": 2,
    "start_time": "2024-10-22T02:19:19.154Z"
   },
   {
    "duration": 4,
    "start_time": "2024-10-22T02:19:25.543Z"
   },
   {
    "duration": 8,
    "start_time": "2024-10-22T02:19:50.976Z"
   },
   {
    "duration": 5,
    "start_time": "2024-10-22T02:21:44.391Z"
   },
   {
    "duration": 9,
    "start_time": "2024-10-22T02:21:49.815Z"
   },
   {
    "duration": 9,
    "start_time": "2024-10-22T02:22:38.239Z"
   },
   {
    "duration": 95,
    "start_time": "2024-10-22T02:23:00.899Z"
   },
   {
    "duration": 95,
    "start_time": "2024-10-22T02:23:13.254Z"
   },
   {
    "duration": 10,
    "start_time": "2024-10-22T02:23:34.145Z"
   },
   {
    "duration": 9,
    "start_time": "2024-10-22T02:23:43.743Z"
   },
   {
    "duration": 7,
    "start_time": "2024-10-22T02:24:58.839Z"
   },
   {
    "duration": 868,
    "start_time": "2024-10-22T03:00:15.994Z"
   },
   {
    "duration": 20,
    "start_time": "2024-10-22T03:00:16.864Z"
   },
   {
    "duration": 13,
    "start_time": "2024-10-22T03:00:16.886Z"
   },
   {
    "duration": 26,
    "start_time": "2024-10-22T03:00:16.901Z"
   },
   {
    "duration": 6,
    "start_time": "2024-10-22T03:00:16.930Z"
   },
   {
    "duration": 6,
    "start_time": "2024-10-22T03:00:16.939Z"
   },
   {
    "duration": 7,
    "start_time": "2024-10-22T03:00:16.946Z"
   },
   {
    "duration": 4,
    "start_time": "2024-10-22T03:00:16.955Z"
   },
   {
    "duration": 7,
    "start_time": "2024-10-22T03:00:16.960Z"
   },
   {
    "duration": 6,
    "start_time": "2024-10-22T03:00:16.968Z"
   },
   {
    "duration": 39,
    "start_time": "2024-10-22T03:00:16.976Z"
   },
   {
    "duration": 6,
    "start_time": "2024-10-22T03:00:17.017Z"
   },
   {
    "duration": 5,
    "start_time": "2024-10-22T03:00:17.025Z"
   },
   {
    "duration": 4,
    "start_time": "2024-10-22T03:00:17.034Z"
   },
   {
    "duration": 8,
    "start_time": "2024-10-22T03:00:17.040Z"
   },
   {
    "duration": 6,
    "start_time": "2024-10-22T03:00:17.050Z"
   },
   {
    "duration": 7,
    "start_time": "2024-10-22T03:00:17.057Z"
   },
   {
    "duration": 215,
    "start_time": "2024-10-22T03:00:17.066Z"
   },
   {
    "duration": 6,
    "start_time": "2024-10-22T03:00:17.283Z"
   },
   {
    "duration": 219,
    "start_time": "2024-10-22T03:00:17.291Z"
   },
   {
    "duration": 5,
    "start_time": "2024-10-22T03:00:17.512Z"
   },
   {
    "duration": 5,
    "start_time": "2024-10-22T03:00:17.519Z"
   },
   {
    "duration": 5,
    "start_time": "2024-10-22T03:00:17.527Z"
   },
   {
    "duration": 7,
    "start_time": "2024-10-22T03:00:17.534Z"
   },
   {
    "duration": 6,
    "start_time": "2024-10-22T03:00:17.543Z"
   },
   {
    "duration": 7,
    "start_time": "2024-10-22T03:00:17.550Z"
   },
   {
    "duration": 744,
    "start_time": "2024-10-23T00:14:41.517Z"
   },
   {
    "duration": 16,
    "start_time": "2024-10-23T00:14:42.263Z"
   },
   {
    "duration": 13,
    "start_time": "2024-10-23T00:14:42.281Z"
   },
   {
    "duration": 13,
    "start_time": "2024-10-23T00:14:42.296Z"
   },
   {
    "duration": 5,
    "start_time": "2024-10-23T00:14:42.310Z"
   },
   {
    "duration": 6,
    "start_time": "2024-10-23T00:14:42.331Z"
   },
   {
    "duration": 3,
    "start_time": "2024-10-23T00:14:42.339Z"
   },
   {
    "duration": 4,
    "start_time": "2024-10-23T00:14:42.344Z"
   },
   {
    "duration": 6,
    "start_time": "2024-10-23T00:14:42.350Z"
   },
   {
    "duration": 5,
    "start_time": "2024-10-23T00:14:42.359Z"
   },
   {
    "duration": 5,
    "start_time": "2024-10-23T00:14:42.365Z"
   },
   {
    "duration": 6,
    "start_time": "2024-10-23T00:14:42.371Z"
   },
   {
    "duration": 5,
    "start_time": "2024-10-23T00:14:42.378Z"
   },
   {
    "duration": 47,
    "start_time": "2024-10-23T00:14:42.385Z"
   },
   {
    "duration": 5,
    "start_time": "2024-10-23T00:14:42.434Z"
   },
   {
    "duration": 5,
    "start_time": "2024-10-23T00:14:42.441Z"
   },
   {
    "duration": 7,
    "start_time": "2024-10-23T00:14:42.448Z"
   },
   {
    "duration": 182,
    "start_time": "2024-10-23T00:14:42.457Z"
   },
   {
    "duration": 8,
    "start_time": "2024-10-23T00:14:42.640Z"
   },
   {
    "duration": 182,
    "start_time": "2024-10-23T00:14:42.650Z"
   },
   {
    "duration": 6,
    "start_time": "2024-10-23T00:14:42.833Z"
   },
   {
    "duration": 5,
    "start_time": "2024-10-23T00:14:42.840Z"
   },
   {
    "duration": 4,
    "start_time": "2024-10-23T00:14:42.847Z"
   },
   {
    "duration": 6,
    "start_time": "2024-10-23T00:14:42.852Z"
   },
   {
    "duration": 7,
    "start_time": "2024-10-23T00:14:42.859Z"
   },
   {
    "duration": 5,
    "start_time": "2024-10-23T00:14:42.868Z"
   },
   {
    "duration": 2477,
    "start_time": "2024-10-28T14:53:27.681Z"
   },
   {
    "duration": 16,
    "start_time": "2024-10-28T14:53:30.160Z"
   },
   {
    "duration": 21,
    "start_time": "2024-10-28T14:53:30.177Z"
   },
   {
    "duration": 14,
    "start_time": "2024-10-28T14:53:30.201Z"
   },
   {
    "duration": 5,
    "start_time": "2024-10-28T14:53:30.216Z"
   },
   {
    "duration": 6,
    "start_time": "2024-10-28T14:53:30.223Z"
   },
   {
    "duration": 5,
    "start_time": "2024-10-28T14:53:30.231Z"
   },
   {
    "duration": 4,
    "start_time": "2024-10-28T14:53:30.237Z"
   },
   {
    "duration": 6,
    "start_time": "2024-10-28T14:53:30.242Z"
   },
   {
    "duration": 5,
    "start_time": "2024-10-28T14:53:30.286Z"
   },
   {
    "duration": 5,
    "start_time": "2024-10-28T14:53:30.293Z"
   },
   {
    "duration": 6,
    "start_time": "2024-10-28T14:53:30.299Z"
   },
   {
    "duration": 5,
    "start_time": "2024-10-28T14:53:30.307Z"
   },
   {
    "duration": 4,
    "start_time": "2024-10-28T14:53:30.313Z"
   },
   {
    "duration": 7,
    "start_time": "2024-10-28T14:53:30.318Z"
   },
   {
    "duration": 4,
    "start_time": "2024-10-28T14:53:30.328Z"
   },
   {
    "duration": 7,
    "start_time": "2024-10-28T14:53:30.333Z"
   },
   {
    "duration": 206,
    "start_time": "2024-10-28T14:53:30.341Z"
   },
   {
    "duration": 6,
    "start_time": "2024-10-28T14:53:30.549Z"
   },
   {
    "duration": 194,
    "start_time": "2024-10-28T14:53:30.557Z"
   },
   {
    "duration": 5,
    "start_time": "2024-10-28T14:53:30.752Z"
   },
   {
    "duration": 5,
    "start_time": "2024-10-28T14:53:30.759Z"
   },
   {
    "duration": 4,
    "start_time": "2024-10-28T14:53:30.766Z"
   },
   {
    "duration": 5,
    "start_time": "2024-10-28T14:53:30.771Z"
   },
   {
    "duration": 7,
    "start_time": "2024-10-28T14:53:30.787Z"
   },
   {
    "duration": 5,
    "start_time": "2024-10-28T14:53:30.795Z"
   },
   {
    "duration": 8,
    "start_time": "2024-10-28T14:55:50.988Z"
   },
   {
    "duration": 4,
    "start_time": "2024-10-28T14:56:10.503Z"
   },
   {
    "duration": 5,
    "start_time": "2024-10-28T14:57:39.504Z"
   },
   {
    "duration": 7,
    "start_time": "2024-10-28T15:08:22.862Z"
   },
   {
    "duration": 9,
    "start_time": "2024-10-28T15:09:11.101Z"
   },
   {
    "duration": 10,
    "start_time": "2024-10-28T15:09:53.652Z"
   },
   {
    "duration": 9,
    "start_time": "2024-10-28T15:10:51.664Z"
   },
   {
    "duration": 8,
    "start_time": "2024-10-28T15:11:34.855Z"
   },
   {
    "duration": 125,
    "start_time": "2024-10-28T15:14:07.028Z"
   },
   {
    "duration": 286,
    "start_time": "2024-10-28T15:14:22.733Z"
   },
   {
    "duration": 40,
    "start_time": "2024-10-28T15:15:44.644Z"
   },
   {
    "duration": 3,
    "start_time": "2024-10-28T15:31:04.788Z"
   },
   {
    "duration": 5,
    "start_time": "2024-10-28T15:31:15.606Z"
   },
   {
    "duration": 3,
    "start_time": "2024-10-28T15:31:45.048Z"
   },
   {
    "duration": 89,
    "start_time": "2024-10-28T15:32:13.174Z"
   },
   {
    "duration": 4,
    "start_time": "2024-10-28T15:32:38.416Z"
   },
   {
    "duration": 8,
    "start_time": "2024-10-28T15:33:00.648Z"
   },
   {
    "duration": 5,
    "start_time": "2024-10-28T15:33:05.035Z"
   },
   {
    "duration": 4,
    "start_time": "2024-10-28T15:33:31.547Z"
   },
   {
    "duration": 5,
    "start_time": "2024-10-28T15:33:43.093Z"
   },
   {
    "duration": 6,
    "start_time": "2024-10-28T15:34:18.850Z"
   },
   {
    "duration": 7,
    "start_time": "2024-10-28T15:34:20.999Z"
   },
   {
    "duration": 6,
    "start_time": "2024-10-28T15:34:35.287Z"
   },
   {
    "duration": 5,
    "start_time": "2024-10-28T15:35:08.920Z"
   },
   {
    "duration": 15,
    "start_time": "2024-10-28T15:51:20.054Z"
   },
   {
    "duration": 7,
    "start_time": "2024-10-28T15:51:27.295Z"
   },
   {
    "duration": 4,
    "start_time": "2024-10-28T15:58:27.843Z"
   },
   {
    "duration": 812,
    "start_time": "2024-10-28T15:58:45.402Z"
   },
   {
    "duration": 15,
    "start_time": "2024-10-28T15:58:46.216Z"
   },
   {
    "duration": 12,
    "start_time": "2024-10-28T15:58:46.233Z"
   },
   {
    "duration": 12,
    "start_time": "2024-10-28T15:58:46.248Z"
   },
   {
    "duration": 6,
    "start_time": "2024-10-28T15:58:46.261Z"
   },
   {
    "duration": 7,
    "start_time": "2024-10-28T15:58:46.287Z"
   },
   {
    "duration": 5,
    "start_time": "2024-10-28T15:58:46.296Z"
   },
   {
    "duration": 4,
    "start_time": "2024-10-28T15:58:46.303Z"
   },
   {
    "duration": 7,
    "start_time": "2024-10-28T15:58:46.308Z"
   },
   {
    "duration": 4,
    "start_time": "2024-10-28T15:58:46.320Z"
   },
   {
    "duration": 4,
    "start_time": "2024-10-28T15:58:46.326Z"
   },
   {
    "duration": 6,
    "start_time": "2024-10-28T15:58:46.332Z"
   },
   {
    "duration": 5,
    "start_time": "2024-10-28T15:58:46.386Z"
   },
   {
    "duration": 4,
    "start_time": "2024-10-28T15:58:46.393Z"
   },
   {
    "duration": 5,
    "start_time": "2024-10-28T15:58:46.399Z"
   },
   {
    "duration": 5,
    "start_time": "2024-10-28T15:58:46.406Z"
   },
   {
    "duration": 6,
    "start_time": "2024-10-28T15:58:46.414Z"
   },
   {
    "duration": 190,
    "start_time": "2024-10-28T15:58:46.422Z"
   },
   {
    "duration": 7,
    "start_time": "2024-10-28T15:58:46.613Z"
   },
   {
    "duration": 217,
    "start_time": "2024-10-28T15:58:46.622Z"
   },
   {
    "duration": 10,
    "start_time": "2024-10-28T15:58:46.841Z"
   },
   {
    "duration": 7,
    "start_time": "2024-10-28T15:58:46.852Z"
   },
   {
    "duration": 4,
    "start_time": "2024-10-28T15:58:46.861Z"
   },
   {
    "duration": 6,
    "start_time": "2024-10-28T15:58:46.867Z"
   },
   {
    "duration": 5,
    "start_time": "2024-10-28T15:58:46.874Z"
   },
   {
    "duration": 10,
    "start_time": "2024-10-28T15:58:46.881Z"
   },
   {
    "duration": 5,
    "start_time": "2024-10-28T15:58:46.893Z"
   },
   {
    "duration": 6,
    "start_time": "2024-10-28T15:58:46.901Z"
   },
   {
    "duration": 5,
    "start_time": "2024-10-28T15:58:46.909Z"
   },
   {
    "duration": 2487,
    "start_time": "2024-10-29T01:57:02.752Z"
   },
   {
    "duration": 16,
    "start_time": "2024-10-29T01:57:05.241Z"
   },
   {
    "duration": 15,
    "start_time": "2024-10-29T01:57:05.259Z"
   },
   {
    "duration": 15,
    "start_time": "2024-10-29T01:57:05.277Z"
   },
   {
    "duration": 15,
    "start_time": "2024-10-29T01:57:05.295Z"
   },
   {
    "duration": 6,
    "start_time": "2024-10-29T01:57:05.312Z"
   },
   {
    "duration": 4,
    "start_time": "2024-10-29T01:57:05.320Z"
   },
   {
    "duration": 3,
    "start_time": "2024-10-29T01:57:05.326Z"
   },
   {
    "duration": 7,
    "start_time": "2024-10-29T01:57:05.331Z"
   },
   {
    "duration": 5,
    "start_time": "2024-10-29T01:57:05.341Z"
   },
   {
    "duration": 5,
    "start_time": "2024-10-29T01:57:05.347Z"
   },
   {
    "duration": 6,
    "start_time": "2024-10-29T01:57:05.354Z"
   },
   {
    "duration": 50,
    "start_time": "2024-10-29T01:57:05.361Z"
   },
   {
    "duration": 4,
    "start_time": "2024-10-29T01:57:05.413Z"
   },
   {
    "duration": 6,
    "start_time": "2024-10-29T01:57:05.419Z"
   },
   {
    "duration": 5,
    "start_time": "2024-10-29T01:57:05.427Z"
   },
   {
    "duration": 8,
    "start_time": "2024-10-29T01:57:05.433Z"
   },
   {
    "duration": 187,
    "start_time": "2024-10-29T01:57:05.443Z"
   },
   {
    "duration": 7,
    "start_time": "2024-10-29T01:57:05.632Z"
   },
   {
    "duration": 188,
    "start_time": "2024-10-29T01:57:05.640Z"
   },
   {
    "duration": 9,
    "start_time": "2024-10-29T01:57:05.830Z"
   },
   {
    "duration": 7,
    "start_time": "2024-10-29T01:57:05.841Z"
   },
   {
    "duration": 5,
    "start_time": "2024-10-29T01:57:05.849Z"
   },
   {
    "duration": 5,
    "start_time": "2024-10-29T01:57:05.856Z"
   },
   {
    "duration": 5,
    "start_time": "2024-10-29T01:57:05.862Z"
   },
   {
    "duration": 40,
    "start_time": "2024-10-29T01:57:05.870Z"
   },
   {
    "duration": 6,
    "start_time": "2024-10-29T01:57:05.912Z"
   },
   {
    "duration": 6,
    "start_time": "2024-10-29T01:57:05.921Z"
   },
   {
    "duration": 6,
    "start_time": "2024-10-29T01:57:05.928Z"
   },
   {
    "duration": 6,
    "start_time": "2024-10-29T01:57:20.988Z"
   },
   {
    "duration": 7,
    "start_time": "2024-10-29T01:57:26.115Z"
   }
  ],
  "kernelspec": {
   "display_name": "Python 3 (ipykernel)",
   "language": "python",
   "name": "python3"
  },
  "language_info": {
   "codemirror_mode": {
    "name": "ipython",
    "version": 3
   },
   "file_extension": ".py",
   "mimetype": "text/x-python",
   "name": "python",
   "nbconvert_exporter": "python",
   "pygments_lexer": "ipython3",
   "version": "3.9.19"
  },
  "toc": {
   "base_numbering": 1,
   "nav_menu": {},
   "number_sections": true,
   "sideBar": true,
   "skip_h1_title": true,
   "title_cell": "Table of Contents",
   "title_sidebar": "Contents",
   "toc_cell": false,
   "toc_position": {
    "height": "calc(100% - 180px)",
    "left": "10px",
    "top": "150px",
    "width": "168.438px"
   },
   "toc_section_display": true,
   "toc_window_display": true
  }
 },
 "nbformat": 4,
 "nbformat_minor": 2
}
